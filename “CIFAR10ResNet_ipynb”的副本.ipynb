{
  "nbformat": 4,
  "nbformat_minor": 0,
  "metadata": {
    "colab": {
      "name": "“CIFAR10ResNet.ipynb”的副本",
      "provenance": [],
      "authorship_tag": "ABX9TyMImebOjdTFrpJ3aloX9Zvz",
      "include_colab_link": true
    },
    "kernelspec": {
      "name": "python3",
      "display_name": "Python 3"
    },
    "accelerator": "GPU"
  },
  "cells": [
    {
      "cell_type": "markdown",
      "metadata": {
        "id": "view-in-github",
        "colab_type": "text"
      },
      "source": [
        "<a href=\"https://colab.research.google.com/github/gt980103/adversarial_examples/blob/master/%E2%80%9CCIFAR10ResNet_ipynb%E2%80%9D%E7%9A%84%E5%89%AF%E6%9C%AC.ipynb\" target=\"_parent\"><img src=\"https://colab.research.google.com/assets/colab-badge.svg\" alt=\"Open In Colab\"/></a>"
      ]
    },
    {
      "cell_type": "code",
      "metadata": {
        "id": "bVlvHaXS87rb",
        "colab_type": "code",
        "outputId": "98843aea-287b-413c-d955-a3e4413a934e",
        "colab": {
          "base_uri": "https://localhost:8080/",
          "height": 143
        }
      },
      "source": [
        "import torch\n",
        "import torchvision\n",
        "import torchvision.transforms as transforms\n",
        "#使用GPU\n",
        "device = torch.device(\"cuda\" if torch.cuda.is_available() else \"cpu\")\n",
        "\n",
        "#设置均值和方差\n",
        "mean = (0.4914, 0.4822, 0.4465)\n",
        "std = (0.2023, 0.1994, 0.2010)\n",
        "#设置批量大小\n",
        "batch_size = 256\n",
        "lr = 0.01\n",
        "epochs = 1\n",
        "\n",
        "#设置数据预处理 \n",
        "transform = transforms.Compose([\n",
        "    transforms.RandomCrop(32, padding=4),  #先四周填充0，在吧图像随机裁剪成32*32\n",
        "    transforms.RandomHorizontalFlip(),  #图像一半的概率翻转，一半的概率不翻转\n",
        "    transforms.ToTensor(),\n",
        "    transforms.Normalize(mean,std)])\n",
        "\n",
        "#读取数据集 设置训练集和测试集\n",
        "train_set = torchvision.datasets.CIFAR10(root='./data',train=True, download=True, transform=transform)\n",
        "test_set = torchvision.datasets.CIFAR10(root='./data',train=False, download=True, transform=transform)\n",
        "\n",
        "train_loader = torch.utils.data.DataLoader(train_set, batch_size=batch_size, shuffle=True, num_workers=0)\n",
        "test_loader = torch.utils.data.DataLoader(test_set, batch_size=batch_size, shuffle=False, num_workers=0)\n",
        "\n",
        "def evl_test_acc(test_loader ,model, device = None):\n",
        "    if device is None and isinstance(model, torch.nn.Module):\n",
        "        # 如果没指定device就使用model的device\n",
        "        device = list(model.parameters())[0].device \n",
        "    with torch.no_grad():\n",
        "        model.eval()\n",
        "        total = 0.0\n",
        "        correct = 0.0\n",
        "        for inputs, labels in test_loader:\n",
        "            inputs, labels = inputs.to(device), labels.to(device)\n",
        "            outputs = model(inputs)\n",
        "            _, predict = torch.max(outputs,1)\n",
        "            total += labels.size(0)\n",
        "            correct += (labels == predict).sum().item()\n",
        "        model.train()\n",
        "    return correct / total\n",
        "\n",
        "import torch.nn as nn\n",
        "import torch.functional as F\n",
        "import torch.optim as optim\n",
        "import time\n",
        "\n",
        "model = torchvision.models.resnet50(pretrained=True)\n",
        "in_features = model.fc.in_features\n",
        "model.fc = nn.Linear(in_features, 10)\n",
        "model = model.to(device)\n",
        "\n",
        "criterion = nn.CrossEntropyLoss()\n",
        "optimizer = optim.Adam(model.parameters(),lr = lr)\n",
        "\n",
        "start_time = time.time()\n",
        "each_epoch_time = time.time()\n",
        "\n",
        "for epoch in range(epochs):\n",
        "    running_loss = 0.0\n",
        "    train_total = 0.0\n",
        "    train_correct = 0.0\n",
        "    start = time.time()\n",
        "    for i,data in enumerate(train_loader,0):\n",
        "        inputs, labels = data\n",
        "        inputs, labels = inputs.to(device), labels.to(device)\n",
        "        #清空梯度\n",
        "        optimizer.zero_grad()\n",
        "        #正向传播 反向传播 更新参数\n",
        "        output = model(inputs)\n",
        "        loss = criterion(output, labels)\n",
        "        loss.backward()\n",
        "        optimizer.step()\n",
        "        #记录损失\n",
        "        running_loss += loss.item()\n",
        "        \n",
        "        #训练集数量 训练集正确数量\n",
        "        train_total += labels.size(0)\n",
        "        _, predict = torch.max(output.data,1)\n",
        "        train_correct += (labels == predict).sum().item()      \n",
        "        #每50组batch 打印一次\n",
        "        if i % 50 == 49:\n",
        "            print('[%d, %5d] loss: %.3f train_acc: %.3f time: %.1f sec' % (epoch + 1, i + 1, running_loss / 50, train_correct / train_total ,time.time()-each_epoch_time))\n",
        "            running_loss = 0.0\n",
        "            each_epoch_time = time.time()\n",
        "    #记录一次epoch的训练误差 测试误差 训练时间\n",
        "    test_acc = evl_test_acc(test_loader, model)\n",
        "    print('epoch %d, train acc %.3f, test acc %.3f, time %.1f sec'\n",
        "              % (epoch + 1,  train_correct / train_total, test_acc, time.time() - start))\n",
        "    print(\"total time %.1f sec\" % (time.time() - start_time))"
      ],
      "execution_count": 0,
      "outputs": [
        {
          "output_type": "stream",
          "text": [
            "Files already downloaded and verified\n",
            "Files already downloaded and verified\n",
            "[1,    50] loss: 3.011 train_acc: 0.129 time: 13.0 sec\n",
            "[1,   100] loss: 2.415 train_acc: 0.157 time: 13.1 sec\n",
            "[1,   150] loss: 2.142 train_acc: 0.186 time: 13.2 sec\n",
            "epoch 1, train acc 0.207, test acc 0.275, time 54.6 sec\n",
            "total time 54.6 sec\n"
          ],
          "name": "stdout"
        }
      ]
    },
    {
      "cell_type": "code",
      "metadata": {
        "id": "KucyySZGF0U0",
        "colab_type": "code",
        "colab": {}
      },
      "source": [
        ""
      ],
      "execution_count": 0,
      "outputs": []
    }
  ]
}